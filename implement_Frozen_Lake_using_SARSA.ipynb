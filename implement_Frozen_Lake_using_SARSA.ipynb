{
  "nbformat": 4,
  "nbformat_minor": 0,
  "metadata": {
    "colab": {
      "provenance": [],
      "authorship_tag": "ABX9TyNlWD+82YsWPBQsEBw6pDQA",
      "include_colab_link": true
    },
    "kernelspec": {
      "name": "python3",
      "display_name": "Python 3"
    },
    "language_info": {
      "name": "python"
    }
  },
  "cells": [
    {
      "cell_type": "markdown",
      "metadata": {
        "id": "view-in-github",
        "colab_type": "text"
      },
      "source": [
        "<a href=\"https://colab.research.google.com/github/truptiwagh13/ML-3-PR-codes/blob/main/implement_Frozen_Lake_using_SARSA.ipynb\" target=\"_parent\"><img src=\"https://colab.research.google.com/assets/colab-badge.svg\" alt=\"Open In Colab\"/></a>"
      ]
    },
    {
      "cell_type": "code",
      "execution_count": 2,
      "metadata": {
        "colab": {
          "base_uri": "https://localhost:8080/"
        },
        "id": "3L2ONaFDUykQ",
        "outputId": "1b623f0d-9b17-4ae5-e0c6-14499e80eb26"
      },
      "outputs": [
        {
          "output_type": "stream",
          "name": "stderr",
          "text": [
            "/usr/local/lib/python3.10/dist-packages/ipykernel/ipkernel.py:283: DeprecationWarning: `should_run_async` will not call `transform_cell` automatically in the future. Please pass the result to `transformed_cell` argument and any exception that happen during thetransform in `preprocessing_exc_tuple` in IPython 7.17 and above.\n",
            "  and should_run_async(code)\n",
            "/usr/local/lib/python3.10/dist-packages/gym/core.py:317: DeprecationWarning: \u001b[33mWARN: Initializing wrapper in old step API which returns one bool instead of two. It is recommended to set `new_step_api=True` to use new step API. This will be the default behaviour in future.\u001b[0m\n",
            "  deprecation(\n",
            "/usr/local/lib/python3.10/dist-packages/gym/wrappers/step_api_compatibility.py:39: DeprecationWarning: \u001b[33mWARN: Initializing environment in old step API which returns one bool instead of two. It is recommended to set `new_step_api=True` to use new step API. This will be the default behaviour in future.\u001b[0m\n",
            "  deprecation(\n"
          ]
        },
        {
          "output_type": "stream",
          "name": "stdout",
          "text": [
            "performance :  0.001\n",
            "[[1.52349942e-04 1.75753724e-04 1.22024895e-04 1.17389168e-04]\n",
            " [6.49381516e-05 1.98963620e-04 1.31169721e-04 1.67421474e-04]\n",
            " [5.52488336e-04 5.60982653e-04 5.23811507e-04 1.34009235e-04]\n",
            " [5.58495408e-05 4.97698296e-05 1.49210760e-05 1.00747236e-04]\n",
            " [2.99060044e-04 2.67408388e-04 2.15266069e-04 1.06881088e-04]\n",
            " [0.00000000e+00 0.00000000e+00 0.00000000e+00 0.00000000e+00]\n",
            " [1.92354816e-03 2.82459379e-03 1.95916320e-03 3.85754627e-05]\n",
            " [0.00000000e+00 0.00000000e+00 0.00000000e+00 0.00000000e+00]\n",
            " [1.10154786e-04 7.92536560e-04 9.31785173e-04 8.72044179e-04]\n",
            " [2.48258020e-03 4.24454162e-03 3.88761691e-03 3.04864203e-03]\n",
            " [2.26223761e-02 1.68005253e-02 9.47218371e-03 5.07952409e-04]\n",
            " [0.00000000e+00 0.00000000e+00 0.00000000e+00 0.00000000e+00]\n",
            " [0.00000000e+00 0.00000000e+00 0.00000000e+00 0.00000000e+00]\n",
            " [1.47587281e-03 1.22339360e-02 1.54151162e-02 6.13656154e-03]\n",
            " [3.92950508e-02 1.88308621e-01 2.22845901e-01 1.22963516e-01]\n",
            " [0.00000000e+00 0.00000000e+00 0.00000000e+00 0.00000000e+00]]\n"
          ]
        }
      ],
      "source": [
        "#implement Frozen Lake using SARSA\n",
        "\n",
        "import numpy as np\n",
        "import gym\n",
        "\n",
        "#Frozenlake-v0 gym environment\n",
        "env = gym.make('FrozenLake-v1')\n",
        "\n",
        "#parameters\n",
        "epsilon = 0.9\n",
        "total_episodes = 1000\n",
        "max_steps = 100\n",
        "alpha = 0.05\n",
        "gamma = 0.95\n",
        "\n",
        "#Initializing the Q-value\n",
        "Q = np.zeros((env.observation_space.n, env.action_space.n))\n",
        "\n",
        "#function to choose the next action woth episolon greedy\n",
        "def choose_action(state):\n",
        "  action = 0\n",
        "  if np.random.uniform(0,1)<epsilon:\n",
        "    action = env.action_space.sample()\n",
        "  else:\n",
        "    action = np.argmax(Q[state, :])\n",
        "  return action\n",
        "\n",
        "#Initializing the reward\n",
        "reward = 0\n",
        "\n",
        "#starting the SARSA_learning\n",
        "for episode in range(total_episodes):\n",
        "  t=0\n",
        "  state1 = env.reset()\n",
        "  action1 = choose_action(state1)\n",
        "\n",
        "  while t < max_steps:\n",
        "    #visualizing the training \n",
        "\n",
        "\n",
        "    #Getting the next state\n",
        "    state2, reward, done, info = env.step(action1)\n",
        "\n",
        "    action2 = choose_action(state2)\n",
        "\n",
        "    Q[state1, action1] = Q[state1, action1] + alpha * (reward + gamma * Q[state2,action2] - Q[state1,action1])\n",
        "\n",
        "    state1=state2\n",
        "    action1=action2\n",
        "\n",
        "    t += 1\n",
        "    reward += 1\n",
        "\n",
        "    if done:\n",
        "      break\n",
        "\n",
        "print(\"performance : \",reward/total_episodes)\n",
        "print(Q)\n",
        "\n"
      ]
    },
    {
      "cell_type": "code",
      "source": [],
      "metadata": {
        "id": "W9uSfyJ-Y86r"
      },
      "execution_count": null,
      "outputs": []
    }
  ]
}