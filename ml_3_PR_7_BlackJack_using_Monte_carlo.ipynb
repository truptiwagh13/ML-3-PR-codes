{
  "nbformat": 4,
  "nbformat_minor": 0,
  "metadata": {
    "colab": {
      "provenance": [],
      "authorship_tag": "ABX9TyOK5oL/TrLPmECSvEBe5uYu",
      "include_colab_link": true
    },
    "kernelspec": {
      "name": "python3",
      "display_name": "Python 3"
    },
    "language_info": {
      "name": "python"
    }
  },
  "cells": [
    {
      "cell_type": "markdown",
      "metadata": {
        "id": "view-in-github",
        "colab_type": "text"
      },
      "source": [
        "<a href=\"https://colab.research.google.com/github/truptiwagh13/ML-3-PR-codes/blob/main/ml_3_PR_7_BlackJack_using_Monte_carlo.ipynb\" target=\"_parent\"><img src=\"https://colab.research.google.com/assets/colab-badge.svg\" alt=\"Open In Colab\"/></a>"
      ]
    },
    {
      "cell_type": "code",
      "execution_count": 1,
      "metadata": {
        "colab": {
          "base_uri": "https://localhost:8080/"
        },
        "id": "iBRAzY89kpFT",
        "outputId": "a38325f3-051e-4fa6-86fb-ea58d2c15a70"
      },
      "outputs": [
        {
          "output_type": "stream",
          "name": "stdout",
          "text": [
            "Dealer's hand:\n",
            "\n",
            "Total:0\n",
            "\n",
            "Player's hand:\n",
            "9 ,8 ,9\n",
            "Total:26\n",
            "\n",
            "Hit or stand?HIT\n",
            "you stand. \n",
            "Dealer hit a A\n",
            "\n",
            "Bust! Dealer Won!\n"
          ]
        }
      ],
      "source": [
        "import random\n",
        "deck=['A',\"2\",\"3\",\"4\",\"5\",\"6\",\"7\",\"8\",\"9\",\"10\",\"10\",\"10\"]*4\n",
        "random.shuffle(deck)\n",
        "\n",
        "playerHand=[]\n",
        "dealerHand=[]\n",
        "\n",
        "def deal():\n",
        "    return deck.pop(0)\n",
        "def total(hand):\n",
        "    isAce=False\n",
        "    totalValue=0\n",
        "    for card in hand:\n",
        "        if card != \"A\":\n",
        "            totalValue +=int(card)\n",
        "        else:\n",
        "            isAce = True\n",
        "            totalValue+=11\n",
        "    if totalValue > 21 and isAce:\n",
        "        totalValue-=10\n",
        "    return totalValue\n",
        "playerHand.append(deal())\n",
        "playerHand.append(deal())\n",
        "playerHand.append(deal())\n",
        "\n",
        "while True:\n",
        "    print(f\"Dealer's hand:\\n{' ,'.join(dealerHand)}\\nTotal:{total(dealerHand)}\\n\")\n",
        "    print(f\"Player's hand:\\n{' ,'.join(playerHand)}\\nTotal:{total(playerHand)}\\n\")\n",
        "    \n",
        "    action=input(\"Hit or stand?\")\n",
        "    \n",
        "    if action==\"Hit\" or action==\"Hit\":\n",
        "        playerHand.append(deal())\n",
        "        print(f\"You hit a {playerHand[-1]}\\n\")\n",
        "    else:\n",
        "        print(\"you stand. \")\n",
        "        \n",
        "    if total(dealerHand) >= 17 and total(dealerHand) > total(playerHand):\n",
        "        print(\"Dealer stands \")\n",
        "    else:\n",
        "        dealerHand.append(deal())\n",
        "        print(f\"Dealer hit a {dealerHand[-1]}\\n\")\n",
        "        \n",
        "    if total(playerHand)>21:\n",
        "        print(\"Bust! Dealer Won!\")\n",
        "        break\n",
        "    elif total(dealerHand)>21:\n",
        "        print(\"Bust! You won!\")\n",
        "        break\n",
        "        \n",
        "    if total(playerHand) > total(dealerHand):\n",
        "        print(\"You win!\")\n",
        "        break\n",
        "    elif total(dealerHand) > totl(playerHand):\n",
        "        print(\"Dealer Wins!\")\n",
        "        break\n",
        "    else:\n",
        "        print(\"Tie!\")\n",
        "        break\n",
        "        \n",
        "\n",
        "        "
      ]
    },
    {
      "cell_type": "code",
      "source": [],
      "metadata": {
        "id": "o7E19Yh9kp7a"
      },
      "execution_count": null,
      "outputs": []
    }
  ]
}