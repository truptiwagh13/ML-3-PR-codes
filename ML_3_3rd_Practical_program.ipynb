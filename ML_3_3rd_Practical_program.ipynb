{
  "nbformat": 4,
  "nbformat_minor": 0,
  "metadata": {
    "colab": {
      "provenance": [],
      "authorship_tag": "ABX9TyOpFa1TgQ+r6bXR98fu5qk2",
      "include_colab_link": true
    },
    "kernelspec": {
      "name": "python3",
      "display_name": "Python 3"
    },
    "language_info": {
      "name": "python"
    }
  },
  "cells": [
    {
      "cell_type": "markdown",
      "metadata": {
        "id": "view-in-github",
        "colab_type": "text"
      },
      "source": [
        "<a href=\"https://colab.research.google.com/github/truptiwagh13/ML-3-PR-codes/blob/main/ML_3_3rd_Practical_program.ipynb\" target=\"_parent\"><img src=\"https://colab.research.google.com/assets/colab-badge.svg\" alt=\"Open In Colab\"/></a>"
      ]
    },
    {
      "cell_type": "code",
      "execution_count": 3,
      "metadata": {
        "id": "cCbOYs4qB9gY"
      },
      "outputs": [],
      "source": [
        "import numpy as np\n",
        "import matplotlib.pyplot as plt\n",
        "import pandas as pd\n"
      ]
    },
    {
      "cell_type": "code",
      "source": [
        "dataset=pd.read_csv('ads.csv')\n",
        "#Implementing UCB\n",
        "import math\n",
        "N=10000\n",
        "d=10\n",
        "ads_selected=[]\n",
        "numbers_of_selections=[0]*d\n",
        "sums_of_rewards=[0]*d\n",
        "total_reward=0\n",
        "for n in range(0,N):\n",
        "    ad=0\n",
        "    max_upper_bound=0\n",
        "    for i in range(0,d):\n",
        "        if(numbers_of_selections[i]>0):\n",
        "            average_reward=sums_of_rewards[i]/numbers_of_selections[i]\n",
        "            delta_i=math.sqrt(3/2*math.log(n+1)/numbers_of_selections[i])\n",
        "            upper_bound=average_reward+delta_i\n",
        "           \n",
        "        else:\n",
        "            upper_bound=1e400\n",
        "        if upper_bound>max_upper_bound:\n",
        "            max_upper_bound=upper_bound\n",
        "            ad=i\n",
        "           \n",
        "    ads_selected.append(ad)\n",
        "    numbers_of_selections[ad]=numbers_of_selections[ad]+1\n",
        "    reward=dataset.values[n,ad]\n",
        "    sums_of_rewards[ad]=sums_of_rewards[ad]+reward\n",
        "    total_reward=total_reward+reward\n",
        "   \n",
        "#visualising\n",
        "\n",
        "plt.hist(ads_selected)\n",
        "plt.title('Histogram of ads selections')\n",
        "plt.xlabel('ADS')\n",
        "plt.ylabel('Number of times each ad was selected')\n",
        "plt.show()\n",
        "\n"
      ],
      "metadata": {
        "colab": {
          "base_uri": "https://localhost:8080/",
          "height": 295
        },
        "id": "ntnPKTqyC8DS",
        "outputId": "7ebb0cf4-dfb8-4e3c-90d4-4e4ccb5f5f8a"
      },
      "execution_count": 5,
      "outputs": [
        {
          "output_type": "display_data",
          "data": {
            "text/plain": [
              "<Figure size 432x288 with 1 Axes>"
            ],
            "image/png": "[encoded data removed]"
          },
          "metadata": {
            "needs_background": "light"
          }
        }
      ]
    },
    {
      "cell_type": "code",
      "source": [],
      "metadata": {
        "id": "m4oKj2ubJdOZ"
      },
      "execution_count": null,
      "outputs": []
    }
  ]
}