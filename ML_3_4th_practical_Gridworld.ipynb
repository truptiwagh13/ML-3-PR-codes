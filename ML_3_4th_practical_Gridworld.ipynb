{
  "nbformat": 4,
  "nbformat_minor": 0,
  "metadata": {
    "colab": {
      "provenance": [],
      "authorship_tag": "ABX9TyO2HcD4n6RoqSImlI9eUVkk",
      "include_colab_link": true
    },
    "kernelspec": {
      "name": "python3",
      "display_name": "Python 3"
    },
    "language_info": {
      "name": "python"
    }
  },
  "cells": [
    {
      "cell_type": "markdown",
      "metadata": {
        "id": "view-in-github",
        "colab_type": "text"
      },
      "source": [
        "<a href=\"https://colab.research.google.com/github/truptiwagh13/ML-3-PR-codes/blob/main/ML_3_4th_practical_Gridworld.ipynb\" target=\"_parent\"><img src=\"https://colab.research.google.com/assets/colab-badge.svg\" alt=\"Open In Colab\"/></a>"
      ]
    },
    {
      "cell_type": "code",
      "execution_count": 5,
      "metadata": {
        "colab": {
          "base_uri": "https://localhost:8080/"
        },
        "id": "LCVhSmTFXK1R",
        "outputId": "73b06443-51db-4eb5-a879-42053ac5efa4"
      },
      "outputs": [
        {
          "output_type": "execute_result",
          "data": {
            "text/plain": [
              "array([[ 3.3,  8.8,  4.4,  5.3,  1.5],\n",
              "       [ 1.5,  3. ,  2.2,  1.9,  0.5],\n",
              "       [ 0. ,  0.7,  0.7,  0.4, -0.4],\n",
              "       [-1. , -0.4, -0.3, -0.6, -1.2],\n",
              "       [-1.9, -1.3, -1.2, -1.4, -1.9]])"
            ]
          },
          "metadata": {},
          "execution_count": 5
        }
      ],
      "source": [
        "import numpy as np\n",
        "\n",
        "grid = np.zeros((5,5))\n",
        "grid\n",
        "\n",
        "Y = .90  #discount value\n",
        "for num in range(10): #number of times we will go through the whole grid\n",
        "  for i in range(5):      #all the rows\n",
        "    for j in range(5):    #all the columns3\n",
        "      \n",
        "      up_grid = grid[i-1][j] if i > 0 else 0   #if going up takes us out of the grid then its value be 0\n",
        "      down_grid = grid[i+1][j] if i < 4 else 0  #if going down takes us out of the grid then its value be 0\n",
        "      left_grid = grid[i][j-1] if j > 0 else 0  #if going left takes us out of the grid then its value be 0\n",
        "      right_grid = grid[i][j+1] if j < 4 else 0  #if going right takes us out of the grid then its value be 0\n",
        "\n",
        "      all_dirs = [up_grid, down_grid, left_grid, right_grid]     \n",
        "\n",
        "      value=0  \n",
        "      if i==0 and j==1: # the position of A\n",
        "        value = 10 + Y*grid[4][1]\n",
        "      elif i==0 and j==3: # the position of B\n",
        "        value = 5 + Y*grid[2][3]\n",
        "      else:\n",
        "        for direc in all_dirs:\n",
        "          if direc != 0: \n",
        "            value += .25 * (0 + Y*direc)  #if we don't go out of the grid\n",
        "          else:\n",
        "            value += .25 * (-1 + Y*grid[i][j]) #if we go out of the grid\n",
        "        \n",
        "      grid[i][j] = value   \n",
        "\n",
        "np.round(grid, 1)\n",
        "\n",
        "\n"
      ]
    },
    {
      "cell_type": "code",
      "source": [],
      "metadata": {
        "id": "3mMHUZYrXOE-"
      },
      "execution_count": null,
      "outputs": []
    }
  ]
}